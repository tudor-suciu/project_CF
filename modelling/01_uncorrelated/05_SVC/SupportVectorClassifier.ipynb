{
 "cells": [
  {
   "cell_type": "code",
   "execution_count": 14,
   "metadata": {},
   "outputs": [],
   "source": [
    "import pandas as pd\n",
    "import numpy as np\n",
    "import sys\n",
    "import time\n",
    "\n",
    "sys.path.append('../../../')\n",
    "from utils import modelling as mod\n",
    "from utils import utils\n",
    "from utils import paths\n",
    "import wandb\n",
    "\n",
    "from sklearn.preprocessing import StandardScaler, MinMaxScaler\n",
    "from sklearn.linear_model import LogisticRegression\n",
    "from sklearn.svm import SVC, LinearSVC\n",
    "from sklearn.model_selection import KFold, cross_val_score, cross_validate"
   ]
  },
  {
   "cell_type": "code",
   "execution_count": 3,
   "metadata": {},
   "outputs": [],
   "source": [
    "df = pd.read_csv('/Users/tudor/Documents/phd/coding/project_CF/data/final_df_aberdeen.csv')\n",
    "# df = pd.read_csv('/gws/nopw/j04/ai4er/users/ts809/era5_final/final_df_aberdeen.csv')    # JASMIN\n",
    "\n",
    "weights = mod.CalcClassWeights(df['floods'])\n",
    "df_to_analyse = df.drop(columns=['Unnamed: 0.1', 'time', 'Unnamed: 0', 'floods', 'time_ok', 't'])\n",
    "\n",
    "X = df_to_analyse.drop(columns=['floods_x4'])\n",
    "y = df_to_analyse['floods_x4']\n",
    "\n",
    "X_train = X.iloc[0:int(len(X) *.8)] \n",
    "X_test = X.iloc[int(len(X) *.8):int(len(X) *.9)]\n",
    "X_val = X.iloc[int(len(X) *.9):]\n",
    "\n",
    "y_train = y.iloc[0:int(len(y) *.8)]\n",
    "y_test = y.iloc[int(len(y) *.8):int(len(y) *.9)]\n",
    "y_val = y.iloc[int(len(y) *.9):]"
   ]
  },
  {
   "cell_type": "code",
   "execution_count": 4,
   "metadata": {},
   "outputs": [],
   "source": [
    "scaler = MinMaxScaler()\n",
    "scaler.fit(X_train)\n",
    "X_train = scaler.transform(X_train)\n",
    "X_test = scaler.transform(X_test)\n",
    "X_val = scaler.transform(X_val)"
   ]
  },
  {
   "cell_type": "code",
   "execution_count": 15,
   "metadata": {},
   "outputs": [],
   "source": [
    "# svc = SVC(\n",
    "#     C= 10, ###\n",
    "#     kernel= \"sigmoid\", ### Literal['linear', 'poly', 'rbf', 'sigmoid', 'precomputed']\n",
    "#     degree=4, ###\n",
    "#     gamma='auto', ### float | Literal['scale', 'auto'] = \"scale\",\n",
    "#     coef0=0,\n",
    "#     shrinking=True,\n",
    "#     probability = False,\n",
    "#     tol= 0.001,\n",
    "#     cache_size= 200,\n",
    "#     max_iter = 500,\n",
    "#     # decision_function_shape ='ovr', ### Literal['ovo', 'ovr'] = \"ovr\", -> Ignored for Binary Classfication.\n",
    "#     # break_ties= False, -> Ignored for Binary Classfication.\n",
    "#     class_weight=weights,\n",
    "#     verbose=1,\n",
    "#     random_state=42,\n",
    "# )\n",
    "\n",
    "svc = LinearSVC(\n",
    "    penalty='l1', ###: Literal['l1', 'l2'] = \"l2\",\n",
    "    loss='squared_hinge', ### Literal['squared_hinge', 'hinge'] = \"squared_hinge\",\n",
    "    dual='auto', ###: bool = True,\n",
    "    tol= 0.0001,\n",
    "    C= 10,\n",
    "    # multi_class: Literal['ovr', 'crammer_singer'] = \"ovr\",\n",
    "    fit_intercept = True,\n",
    "    intercept_scaling= 1,\n",
    "    class_weight=weights,\n",
    "    verbose= 1,\n",
    "    random_state=42,\n",
    "    max_iter= 1000,\n",
    ")"
   ]
  },
  {
   "cell_type": "code",
   "execution_count": 16,
   "metadata": {},
   "outputs": [
    {
     "name": "stdout",
     "output_type": "stream",
     "text": [
      "[LibLinear]....................................................................................................\n",
      "optimization finished, #iter = 1000\n",
      "\n",
      "WARNING: reaching max number of iterations\n",
      "Objective value = 91.093390\n",
      "#nonzeros/#features = 132/4954\n",
      "0.8458833619210977\n"
     ]
    },
    {
     "name": "stderr",
     "output_type": "stream",
     "text": [
      "/Users/tudor/opt/anaconda3/envs/phd_main/lib/python3.11/site-packages/sklearn/svm/_base.py:1242: ConvergenceWarning: Liblinear failed to converge, increase the number of iterations.\n",
      "  warnings.warn(\n"
     ]
    }
   ],
   "source": [
    "svc.fit(X_train, y_train)\n",
    "\n",
    "from sklearn.metrics import balanced_accuracy_score\n",
    "\n",
    "y_pred = svc.predict(X_test)\n",
    "print(balanced_accuracy_score(y_test, y_pred))"
   ]
  },
  {
   "cell_type": "code",
   "execution_count": null,
   "metadata": {},
   "outputs": [],
   "source": []
  }
 ],
 "metadata": {
  "kernelspec": {
   "display_name": "phd_main",
   "language": "python",
   "name": "python3"
  },
  "language_info": {
   "codemirror_mode": {
    "name": "ipython",
    "version": 3
   },
   "file_extension": ".py",
   "mimetype": "text/x-python",
   "name": "python",
   "nbconvert_exporter": "python",
   "pygments_lexer": "ipython3",
   "version": "3.11.5"
  }
 },
 "nbformat": 4,
 "nbformat_minor": 2
}
