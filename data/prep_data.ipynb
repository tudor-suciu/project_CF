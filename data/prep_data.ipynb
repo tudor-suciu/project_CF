{
 "cells": [
  {
   "cell_type": "code",
   "execution_count": 1,
   "metadata": {},
   "outputs": [],
   "source": [
    "import sys\n",
    "sys.path.append('../')\n",
    "from utils import paths\n",
    "from utils import utils\n",
    "\n",
    "\n",
    "import pandas as pd\n",
    "import numpy as np\n"
   ]
  },
  {
   "cell_type": "code",
   "execution_count": 15,
   "metadata": {},
   "outputs": [],
   "source": [
    "### We want to create the dataset, given the Location(lat, lon):\n",
    "\n",
    "def prepare_data(location):\n",
    "    '''\n",
    "    location: name of location, in lowercase, e.g. 'aberdeen'.\n",
    "    '''\n",
    "    lat, lon = GetCoordinates(location)\n",
    "    # Retrieve data from specified location in the UK\n",
    "    \n",
    "    # Perform data preprocessing or cleaning\n",
    "    \n",
    "    # Save prepared data to desired location\n",
    "\n",
    "\n",
    "def GetCoordinates(location):\n",
    "    '''\n",
    "    location: name of location, in lowercase, e.g. 'aberdeen'.\n",
    "    '''\n",
    "    # Retrieve data from specified location in the UK\n",
    "    # The metadata file is the paths.Haigh_meta_path\n",
    "    df = pd.read_csv(paths.Haigh_meta_path)\n",
    "    lat = df[df['location'] == location].latitude[0]\n",
    "    lon = df[df['location'] == location].longitude[0]\n",
    "    return lat, lon\n",
    "\n",
    "def geo_coord_borders(lat, lon):\n",
    "    \"\"\"\n",
    "    Get the borders of the window of interest for CMIP6 Native grid;\n",
    "    To be passed down into extract_window function.\n",
    "    ---\n",
    "    lat (np.float): latitude of location\n",
    "    lon (np.float): longitude of location\n",
    "    ---\n",
    "    Returns:\n",
    "        ((lat_lw_bord,lat_up,bord),(lon_lw_bord,lon_up_bord)): (tuple(tuple(np.float)))\n",
    "    \"\"\"\n",
    "    ### The CMIP6 N96 Native grid has   144 gridcells of latitude, i.e. 1.25deg/cell, and\n",
    "    ###                                 192 gridcells of longitude, i.e. 1.875deg/cell.\n",
    "\n",
    "    ### Make sure the longitude is in [-180,180], not [0,360]:\n",
    "    if (lon - 180 >0):\n",
    "        lon = lon - 360\n",
    "\n",
    "    delta_lat = 1.25 * 2.5\n",
    "    delta_lon = 1.875* 2.5\n",
    "\n",
    "    lat_lw_bord = lat - delta_lat \n",
    "    lat_up_bord = lat + delta_lat\n",
    "\n",
    "    lon_lw_bord = lon - delta_lon\n",
    "    lon_up_bord = lon + delta_lon\n",
    "\n",
    "    if ((lon_lw_bord >= 0)&(lon_up_bord > 0)):\n",
    "        lon_lw_bord = lon - delta_lon\n",
    "        lon_up_bord = lon + delta_lon\n",
    "    elif ((lon_lw_bord < 0)&(lon_up_bord <= 0)):\n",
    "        lon_lw_bord = lon - delta_lon + 360\n",
    "        lon_up_bord = lon + delta_lon + 360\n",
    "    elif ((lon_lw_bord < 0)&(lon_up_bord > 0)):\n",
    "        lon_lw_bord = lon - delta_lon + 360\n",
    "        lon_up_bord = lon + delta_lon\n",
    "    else:\n",
    "        print(\"Error: Something is wrong with the Longitude.\")\n",
    "\n",
    "    return ((lat_lw_bord,lat_up_bord),(lon_lw_bord,lon_up_bord))\n",
    "\n",
    "#--------------------------------------------------------------------------------------------------\n",
    "def extract_window(data,geo_coord_tuple,data_type = 'CMIP6'):\n",
    "    \"\"\"\n",
    "    data_type (string): 'CMIP6' or 'ERA5'\n",
    "    THIS FUNCTION FAILS FOR NEGATIVE LONGITUDES ---- FIX!\n",
    "    \"\"\"\n",
    "\n",
    "\n",
    "    if data_type == 'CMIP6':\n",
    "\n",
    "        lat_lw = geo_coord_tuple[0][0]\n",
    "        lat_up = geo_coord_tuple[0][1]\n",
    "        lon_lw = geo_coord_tuple[1][0]\n",
    "        lon_up = geo_coord_tuple[1][1]\n",
    "\n",
    "        data = data.sel(lat = slice(lat_lw,lat_up))\n",
    "\n",
    "        ### Check if the window crosses the meridian:\n",
    "        if ((lon_lw >180)&(lon_lw<360))&((lon_up>0)&(lon_up<180)):\n",
    "            crop1 = data.sel(lon = slice(lon_lw,360))\n",
    "            crop2 = data.sel(lon = slice(0,lon_up))\n",
    "            data = xr.concat([crop1,crop2],dim = 'lon')\n",
    "        else:\n",
    "            data = data.sel(lon = slice(lon_lw,lon_up))\n",
    "    elif data_type == 'ERA5':\n",
    "        ### ERA5 data has longitude in [-180,180]\n",
    "        lat_lw = geo_coord_tuple[0][1]\n",
    "        lat_up = geo_coord_tuple[0][0]\n",
    "        lon_lw = geo_coord_tuple[1][0]\n",
    "        lon_up = geo_coord_tuple[1][1]\n",
    "\n",
    "        data = data.sel(latitude = slice(lat_lw,lat_up))\n",
    "\n",
    "        ### Check if the window crosses the meridian:\n",
    "        if ((lon_lw >180)&(lon_lw<360))&((lon_up>0)&(lon_up<180)):\n",
    "            crop1 = data.sel(longitude = slice(lon_lw-360,360))\n",
    "            crop2 = data.sel(longitude = slice(0,lon_up))\n",
    "            data = xr.concat([crop1,crop2],dim = 'longitude')\n",
    "        elif ((lon_lw >180)&(lon_lw<360))&((lon_up>180)&(lon_up<360)):\n",
    "            data = data.sel(longitude = slice(lon_lw-360,lon_up-360))\n",
    "        else:\n",
    "            data = data.sel(longitude = slice(lon_lw,lon_up))\n",
    "    else:\n",
    "        print('data_type not recognized.')\n",
    "\n",
    "    return data"
   ]
  },
  {
   "cell_type": "code",
   "execution_count": 2,
   "metadata": {},
   "outputs": [
    {
     "data": {
      "text/html": [
       "<div>\n",
       "<style scoped>\n",
       "    .dataframe tbody tr th:only-of-type {\n",
       "        vertical-align: middle;\n",
       "    }\n",
       "\n",
       "    .dataframe tbody tr th {\n",
       "        vertical-align: top;\n",
       "    }\n",
       "\n",
       "    .dataframe thead th {\n",
       "        text-align: right;\n",
       "    }\n",
       "</style>\n",
       "<table border=\"1\" class=\"dataframe\">\n",
       "  <thead>\n",
       "    <tr style=\"text-align: right;\">\n",
       "      <th></th>\n",
       "      <th>location</th>\n",
       "      <th>latitude</th>\n",
       "      <th>longitude</th>\n",
       "      <th>file_name</th>\n",
       "      <th>geometry</th>\n",
       "    </tr>\n",
       "  </thead>\n",
       "  <tbody>\n",
       "    <tr>\n",
       "      <th>0</th>\n",
       "      <td>aberdeen</td>\n",
       "      <td>57.14325</td>\n",
       "      <td>-2.07451</td>\n",
       "      <td>aberdeen-p038-uk-bodc</td>\n",
       "      <td>POINT (-2.07451 57.14325)</td>\n",
       "    </tr>\n",
       "    <tr>\n",
       "      <th>1</th>\n",
       "      <td>avonmouth</td>\n",
       "      <td>51.51089</td>\n",
       "      <td>-2.71497</td>\n",
       "      <td>avonmouth-p060-uk-bodc</td>\n",
       "      <td>POINT (-2.71497 51.51089)</td>\n",
       "    </tr>\n",
       "    <tr>\n",
       "      <th>2</th>\n",
       "      <td>bangor</td>\n",
       "      <td>54.66475</td>\n",
       "      <td>-5.66947</td>\n",
       "      <td>bangor-p662-uk-bodc</td>\n",
       "      <td>POINT (-5.66947 54.66475)</td>\n",
       "    </tr>\n",
       "    <tr>\n",
       "      <th>3</th>\n",
       "      <td>barmouth</td>\n",
       "      <td>52.71906</td>\n",
       "      <td>-4.04517</td>\n",
       "      <td>barmouth-p923-uk-bodc</td>\n",
       "      <td>POINT (-4.04517 52.71906)</td>\n",
       "    </tr>\n",
       "    <tr>\n",
       "      <th>4</th>\n",
       "      <td>bournemouth</td>\n",
       "      <td>50.71433</td>\n",
       "      <td>-1.87486</td>\n",
       "      <td>bournemouth-p988-uk-bodc</td>\n",
       "      <td>POINT (-1.87486 50.71433)</td>\n",
       "    </tr>\n",
       "  </tbody>\n",
       "</table>\n",
       "</div>"
      ],
      "text/plain": [
       "      location  latitude  longitude                 file_name  \\\n",
       "0     aberdeen  57.14325   -2.07451     aberdeen-p038-uk-bodc   \n",
       "1    avonmouth  51.51089   -2.71497    avonmouth-p060-uk-bodc   \n",
       "2       bangor  54.66475   -5.66947       bangor-p662-uk-bodc   \n",
       "3     barmouth  52.71906   -4.04517     barmouth-p923-uk-bodc   \n",
       "4  bournemouth  50.71433   -1.87486  bournemouth-p988-uk-bodc   \n",
       "\n",
       "                    geometry  \n",
       "0  POINT (-2.07451 57.14325)  \n",
       "1  POINT (-2.71497 51.51089)  \n",
       "2  POINT (-5.66947 54.66475)  \n",
       "3  POINT (-4.04517 52.71906)  \n",
       "4  POINT (-1.87486 50.71433)  "
      ]
     },
     "execution_count": 2,
     "metadata": {},
     "output_type": "execute_result"
    }
   ],
   "source": [
    "uk_haigh_meta = pd.read_csv(paths.Haigh_meta_path).drop(['Unnamed: 0','index'],axis=1)\n",
    "uk_haigh_meta.head()"
   ]
  },
  {
   "cell_type": "code",
   "execution_count": 4,
   "metadata": {},
   "outputs": [],
   "source": [
    "storms = pd.read_csv(paths.storms_path, skiprows = 2, header = 3)\n",
    "water_level= pd.read_csv(paths.water_levels_path,skiprows = 2, header =3)"
   ]
  },
  {
   "cell_type": "code",
   "execution_count": 17,
   "metadata": {},
   "outputs": [
    {
     "data": {
      "text/plain": [
       "((54.01825, 60.26825), (353.23799, 2.61299))"
      ]
     },
     "execution_count": 17,
     "metadata": {},
     "output_type": "execute_result"
    }
   ],
   "source": [
    "lat, lon = GetCoordinates('aberdeen')\n",
    "geo_coord_borders(lat, lon)"
   ]
  },
  {
   "cell_type": "code",
   "execution_count": 18,
   "metadata": {},
   "outputs": [],
   "source": [
    "lat_lw = lat - 3.125\n",
    "lat_up = lat + 3.125\n",
    "lon_lw = lon - 3.125\n",
    "lon_up = lon + 3.125\n",
    "geo_borders = ((lat_lw,lat_up),(lon_lw,lon_up))"
   ]
  },
  {
   "cell_type": "code",
   "execution_count": 19,
   "metadata": {},
   "outputs": [
    {
     "data": {
      "text/plain": [
       "((54.01825, 60.26825), (-5.19951, 1.05049))"
      ]
     },
     "execution_count": 19,
     "metadata": {},
     "output_type": "execute_result"
    }
   ],
   "source": [
    "geo_borders"
   ]
  },
  {
   "cell_type": "code",
   "execution_count": null,
   "metadata": {},
   "outputs": [],
   "source": []
  }
 ],
 "metadata": {
  "kernelspec": {
   "display_name": "phd_main",
   "language": "python",
   "name": "python3"
  },
  "language_info": {
   "codemirror_mode": {
    "name": "ipython",
    "version": 3
   },
   "file_extension": ".py",
   "mimetype": "text/x-python",
   "name": "python",
   "nbconvert_exporter": "python",
   "pygments_lexer": "ipython3",
   "version": "3.11.4"
  }
 },
 "nbformat": 4,
 "nbformat_minor": 2
}
